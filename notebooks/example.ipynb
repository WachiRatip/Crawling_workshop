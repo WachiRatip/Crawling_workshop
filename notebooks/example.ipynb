{
 "cells": [
  {
   "cell_type": "code",
   "execution_count": 1,
   "source": [
    "import re\r\n",
    "\r\n",
    "import requests\r\n",
    "from bs4 import BeautifulSoup"
   ],
   "outputs": [],
   "metadata": {}
  },
  {
   "cell_type": "code",
   "execution_count": 2,
   "source": [
    "URL = \"http://www.shell.com.sg/motorists/shell-fuels/shell-station-price-board.html\"\r\n",
    "\r\n",
    "def get_oil_retail():\r\n",
    "    extracted_data = {}\r\n",
    "    price_data = []\r\n",
    "    product_data = []\r\n",
    "    \r\n",
    "    html_contents = requests.get(URL).text\r\n",
    "    soup = BeautifulSoup(html_contents, \"lxml\")\r\n",
    "    list_text = soup.find_all(\"td\")\r\n",
    "    seq = [item.get_text() for item in list_text]\r\n",
    "    _price_data = [float(''.join(re.findall(r'[\\d.]+', item))) for item in seq[1::3]]\r\n",
    "\r\n",
    "    len_data = len(_price_data)\r\n",
    "    product_data += [item.rstrip() for item in seq[::3]]\r\n",
    "    price_data += _price_data\r\n",
    "    extracted_data['product'] = product_data\r\n",
    "    extracted_data['price'] = price_data\r\n",
    "    \r\n",
    "    print(extracted_data)"
   ],
   "outputs": [],
   "metadata": {}
  },
  {
   "cell_type": "code",
   "execution_count": 3,
   "source": [
    "get_oil_retail()"
   ],
   "outputs": [
    {
     "output_type": "stream",
     "name": "stdout",
     "text": [
      "{'product': ['Shell FuelSave 98', 'Shell FuelSave 95', 'Shell V-Power', 'Shell FuelSave Diesel'], 'price': [3.01, 2.54, 3.23, 2.06]}\n"
     ]
    }
   ],
   "metadata": {}
  }
 ],
 "metadata": {
  "orig_nbformat": 4,
  "language_info": {
   "name": "python",
   "version": "3.9.5",
   "mimetype": "text/x-python",
   "codemirror_mode": {
    "name": "ipython",
    "version": 3
   },
   "pygments_lexer": "ipython3",
   "nbconvert_exporter": "python",
   "file_extension": ".py"
  },
  "kernelspec": {
   "name": "python3",
   "display_name": "Python 3.9.5 64-bit"
  },
  "interpreter": {
   "hash": "2fdb335afa7c2f1ed1e54e9ba6e397b9b4f72c446f641e1f15e870d98bae8259"
  }
 },
 "nbformat": 4,
 "nbformat_minor": 2
}